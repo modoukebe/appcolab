{
  "nbformat": 4,
  "nbformat_minor": 0,
  "metadata": {
    "colab": {
      "name": "graphe.ipynb",
      "provenance": [],
      "authorship_tag": "ABX9TyMuaLQVjMfHm1tSaxrUJfBU",
      "include_colab_link": true
    },
    "kernelspec": {
      "name": "python3",
      "display_name": "Python 3"
    },
    "widgets": {
      "application/vnd.jupyter.widget-state+json": {
        "f174b9720f324e2ebaa1a0932a3ff43d": {
          "model_module": "@jupyter-widgets/controls",
          "model_name": "VBoxModel",
          "state": {
            "_view_name": "VBoxView",
            "_dom_classes": [
              "widget-interact"
            ],
            "_model_name": "VBoxModel",
            "_view_module": "@jupyter-widgets/controls",
            "_model_module_version": "1.5.0",
            "_view_count": null,
            "_view_module_version": "1.5.0",
            "box_style": "",
            "layout": "IPY_MODEL_e2a3851ecd7d4b1aa10de664e1d66405",
            "_model_module": "@jupyter-widgets/controls",
            "children": [
              "IPY_MODEL_bbc13ce242ea4ee4a75978bbf30544a1",
              "IPY_MODEL_af8d011aff8741159815b84bf8dc4733"
            ]
          }
        },
        "e2a3851ecd7d4b1aa10de664e1d66405": {
          "model_module": "@jupyter-widgets/base",
          "model_name": "LayoutModel",
          "state": {
            "_view_name": "LayoutView",
            "grid_template_rows": null,
            "right": null,
            "justify_content": null,
            "_view_module": "@jupyter-widgets/base",
            "overflow": null,
            "_model_module_version": "1.2.0",
            "_view_count": null,
            "flex_flow": null,
            "width": null,
            "min_width": null,
            "border": null,
            "align_items": null,
            "bottom": null,
            "_model_module": "@jupyter-widgets/base",
            "top": null,
            "grid_column": null,
            "overflow_y": null,
            "overflow_x": null,
            "grid_auto_flow": null,
            "grid_area": null,
            "grid_template_columns": null,
            "flex": null,
            "_model_name": "LayoutModel",
            "justify_items": null,
            "grid_row": null,
            "max_height": null,
            "align_content": null,
            "visibility": null,
            "align_self": null,
            "height": null,
            "min_height": null,
            "padding": null,
            "grid_auto_rows": null,
            "grid_gap": null,
            "max_width": null,
            "order": null,
            "_view_module_version": "1.2.0",
            "grid_template_areas": null,
            "object_position": null,
            "object_fit": null,
            "grid_auto_columns": null,
            "margin": null,
            "display": null,
            "left": null
          }
        },
        "bbc13ce242ea4ee4a75978bbf30544a1": {
          "model_module": "@jupyter-widgets/controls",
          "model_name": "FloatSliderModel",
          "state": {
            "_view_name": "FloatSliderView",
            "style": "IPY_MODEL_7ad68c174d974c84a2656b6881bf20ea",
            "_dom_classes": [],
            "description": "x",
            "step": 0.2,
            "_model_name": "FloatSliderModel",
            "orientation": "horizontal",
            "max": 2,
            "_view_module": "@jupyter-widgets/controls",
            "_model_module_version": "1.5.0",
            "value": 2,
            "_view_count": null,
            "disabled": false,
            "_view_module_version": "1.5.0",
            "min": -2,
            "continuous_update": true,
            "readout_format": ".2f",
            "description_tooltip": null,
            "readout": true,
            "_model_module": "@jupyter-widgets/controls",
            "layout": "IPY_MODEL_e319a224c6054c059baf30ca62d79854"
          }
        },
        "af8d011aff8741159815b84bf8dc4733": {
          "model_module": "@jupyter-widgets/output",
          "model_name": "OutputModel",
          "state": {
            "_view_name": "OutputView",
            "msg_id": "",
            "_dom_classes": [],
            "_model_name": "OutputModel",
            "outputs": [
              {
                "output_type": "stream",
                "metadata": {
                  "tags": []
                },
                "text": "Le carré de  2.0 est 4.00\n",
                "stream": "stdout"
              }
            ],
            "_view_module": "@jupyter-widgets/output",
            "_model_module_version": "1.0.0",
            "_view_count": null,
            "_view_module_version": "1.0.0",
            "layout": "IPY_MODEL_be8287eb8dc540d49312e7b422071d65",
            "_model_module": "@jupyter-widgets/output"
          }
        },
        "7ad68c174d974c84a2656b6881bf20ea": {
          "model_module": "@jupyter-widgets/controls",
          "model_name": "SliderStyleModel",
          "state": {
            "_view_name": "StyleView",
            "handle_color": null,
            "_model_name": "SliderStyleModel",
            "description_width": "",
            "_view_module": "@jupyter-widgets/base",
            "_model_module_version": "1.5.0",
            "_view_count": null,
            "_view_module_version": "1.2.0",
            "_model_module": "@jupyter-widgets/controls"
          }
        },
        "e319a224c6054c059baf30ca62d79854": {
          "model_module": "@jupyter-widgets/base",
          "model_name": "LayoutModel",
          "state": {
            "_view_name": "LayoutView",
            "grid_template_rows": null,
            "right": null,
            "justify_content": null,
            "_view_module": "@jupyter-widgets/base",
            "overflow": null,
            "_model_module_version": "1.2.0",
            "_view_count": null,
            "flex_flow": null,
            "width": null,
            "min_width": null,
            "border": null,
            "align_items": null,
            "bottom": null,
            "_model_module": "@jupyter-widgets/base",
            "top": null,
            "grid_column": null,
            "overflow_y": null,
            "overflow_x": null,
            "grid_auto_flow": null,
            "grid_area": null,
            "grid_template_columns": null,
            "flex": null,
            "_model_name": "LayoutModel",
            "justify_items": null,
            "grid_row": null,
            "max_height": null,
            "align_content": null,
            "visibility": null,
            "align_self": null,
            "height": null,
            "min_height": null,
            "padding": null,
            "grid_auto_rows": null,
            "grid_gap": null,
            "max_width": null,
            "order": null,
            "_view_module_version": "1.2.0",
            "grid_template_areas": null,
            "object_position": null,
            "object_fit": null,
            "grid_auto_columns": null,
            "margin": null,
            "display": null,
            "left": null
          }
        },
        "be8287eb8dc540d49312e7b422071d65": {
          "model_module": "@jupyter-widgets/base",
          "model_name": "LayoutModel",
          "state": {
            "_view_name": "LayoutView",
            "grid_template_rows": null,
            "right": null,
            "justify_content": null,
            "_view_module": "@jupyter-widgets/base",
            "overflow": null,
            "_model_module_version": "1.2.0",
            "_view_count": null,
            "flex_flow": null,
            "width": null,
            "min_width": null,
            "border": null,
            "align_items": null,
            "bottom": null,
            "_model_module": "@jupyter-widgets/base",
            "top": null,
            "grid_column": null,
            "overflow_y": null,
            "overflow_x": null,
            "grid_auto_flow": null,
            "grid_area": null,
            "grid_template_columns": null,
            "flex": null,
            "_model_name": "LayoutModel",
            "justify_items": null,
            "grid_row": null,
            "max_height": null,
            "align_content": null,
            "visibility": null,
            "align_self": null,
            "height": null,
            "min_height": null,
            "padding": null,
            "grid_auto_rows": null,
            "grid_gap": null,
            "max_width": null,
            "order": null,
            "_view_module_version": "1.2.0",
            "grid_template_areas": null,
            "object_position": null,
            "object_fit": null,
            "grid_auto_columns": null,
            "margin": null,
            "display": null,
            "left": null
          }
        }
      }
    }
  },
  "cells": [
    {
      "cell_type": "markdown",
      "metadata": {
        "id": "view-in-github",
        "colab_type": "text"
      },
      "source": [
        "<a href=\"https://colab.research.google.com/github/modoukebe/appcolab/blob/main/graphe.ipynb\" target=\"_parent\"><img src=\"https://colab.research.google.com/assets/colab-badge.svg\" alt=\"Open In Colab\"/></a>"
      ]
    },
    {
      "cell_type": "code",
      "metadata": {
        "id": "QH2z6aq7iRnq"
      },
      "source": [
        "import numpy as np\n",
        "import matplotlib.pyplot as plt"
      ],
      "execution_count": 4,
      "outputs": []
    },
    {
      "cell_type": "code",
      "metadata": {
        "id": "C0Qc4kGEiRoA",
        "colab": {
          "base_uri": "https://localhost:8080/",
          "height": 573
        },
        "outputId": "5c87d9bf-5f60-47ee-a0ae-92f19815c929"
      },
      "source": [
        "x = np.linspace(-10, 10, 100)\n",
        "\n",
        "# La version orientée objet\n",
        "\n",
        "fig, ax = plt.subplots()  # création de la figure et du canevas (ang. axes) sur lequel on va dessiner\n",
        "ax.plot(x, np.sinc(x), \"r\")  # on dessine sur le canevas\n",
        "ax.set(title=\"version OO (orienté objet)\", # titre\n",
        "       xlabel=\"x\")  # étiquette de l'abscisse\n",
        "plt.show()  # et on affiche le tout\n",
        "\n",
        "# La version fonctionnelle\n",
        "\n",
        "plt.plot(x, np.sinc(x), \"r\")  # on dessine sur le canevas courant (créé à l'occasion)\n",
        "plt.title(\"version fonctionnelle (à la Matlab)\")  # le titre (transmis au canevas par défaut)\n",
        "plt.xlabel(\"x\")  # étiquette de l'abscisse (transmis au canevas par défaut)\n",
        "plt.show()  # et on affiche le tout"
      ],
      "execution_count": 5,
      "outputs": [
        {
          "output_type": "display_data",
          "data": {
            "image/png": "[encoded data removed]",
            "text/plain": [
              "<Figure size 432x288 with 1 Axes>"
            ]
          },
          "metadata": {
            "tags": [],
            "needs_background": "light"
          }
        },
        {
          "output_type": "display_data",
          "data": {
            "image/png": "[encoded data removed]",
            "text/plain": [
              "<Figure size 432x288 with 1 Axes>"
            ]
          },
          "metadata": {
            "tags": [],
            "needs_background": "light"
          }
        }
      ]
    },
    {
      "cell_type": "code",
      "metadata": {
        "id": "pR3dvnLkiRoJ",
        "colab": {
          "base_uri": "https://localhost:8080/"
        },
        "outputId": "b3acc510-9df1-4651-8e14-f6cbcafbe034"
      },
      "source": [
        "for x in np.arange(-2, 2, .2):\n",
        "    print(f\"Le carré de {x:4.1f} est {x*x:.1f}\")"
      ],
      "execution_count": 6,
      "outputs": [
        {
          "output_type": "stream",
          "text": [
            "Le carré de -2.0 est 4.0\n",
            "Le carré de -1.8 est 3.2\n",
            "Le carré de -1.6 est 2.6\n",
            "Le carré de -1.4 est 2.0\n",
            "Le carré de -1.2 est 1.4\n",
            "Le carré de -1.0 est 1.0\n",
            "Le carré de -0.8 est 0.6\n",
            "Le carré de -0.6 est 0.4\n",
            "Le carré de -0.4 est 0.2\n",
            "Le carré de -0.2 est 0.0\n",
            "Le carré de -0.0 est 0.0\n",
            "Le carré de  0.2 est 0.0\n",
            "Le carré de  0.4 est 0.2\n",
            "Le carré de  0.6 est 0.4\n",
            "Le carré de  0.8 est 0.6\n",
            "Le carré de  1.0 est 1.0\n",
            "Le carré de  1.2 est 1.4\n",
            "Le carré de  1.4 est 2.0\n",
            "Le carré de  1.6 est 2.6\n",
            "Le carré de  1.8 est 3.2\n"
          ],
          "name": "stdout"
        }
      ]
    },
    {
      "cell_type": "code",
      "metadata": {
        "id": "cGYOSe4WiRoM"
      },
      "source": [
        "from ipywidgets import interact, widgets"
      ],
      "execution_count": 7,
      "outputs": []
    },
    {
      "cell_type": "code",
      "metadata": {
        "id": "BNvinU8oiRoP",
        "colab": {
          "base_uri": "https://localhost:8080/",
          "height": 66,
          "referenced_widgets": [
            "f174b9720f324e2ebaa1a0932a3ff43d",
            "e2a3851ecd7d4b1aa10de664e1d66405",
            "bbc13ce242ea4ee4a75978bbf30544a1",
            "af8d011aff8741159815b84bf8dc4733",
            "7ad68c174d974c84a2656b6881bf20ea",
            "e319a224c6054c059baf30ca62d79854",
            "be8287eb8dc540d49312e7b422071d65"
          ]
        },
        "outputId": "f97d51c8-5d7c-4f03-d46a-9482883ab723"
      },
      "source": [
        "@interact(x=(-2, 2, .2))  # on « décore » la fonction suivante pour la rendre interactive\n",
        "def impression_carre(x=1):\n",
        "    print(f\"Le carré de {x:4.1f} est {x*x:.2f}\")"
      ],
      "execution_count": 8,
      "outputs": [
        {
          "output_type": "display_data",
          "data": {
            "application/vnd.jupyter.widget-view+json": {
              "model_id": "f174b9720f324e2ebaa1a0932a3ff43d",
              "version_minor": 0,
              "version_major": 2
            },
            "text/plain": [
              "interactive(children=(FloatSlider(value=1.0, description='x', max=2.0, min=-2.0, step=0.2), Output()), _dom_cl…"
            ]
          },
          "metadata": {
            "tags": []
          }
        }
      ]
    }
  ]
}